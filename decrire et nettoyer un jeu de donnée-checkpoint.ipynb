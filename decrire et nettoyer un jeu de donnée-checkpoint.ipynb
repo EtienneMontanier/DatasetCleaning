{
 "cells": [
  {
   "cell_type": "code",
   "execution_count": 3,
   "id": "e92bf468",
   "metadata": {},
   "outputs": [
    {
     "name": "stdout",
     "output_type": "stream",
     "text": [
      "     identifiant_transaction date_operation date_valeur  \\\n",
      "0                        242     2023-10-06  2023-10-06   \n",
      "1                         25     2023-10-06  2023-10-06   \n",
      "2                         69     2023-10-06  2023-10-06   \n",
      "3                        299     2023-10-05  2023-10-05   \n",
      "4                         45     2023-10-05  2023-10-05   \n",
      "..                       ...            ...         ...   \n",
      "303                      295     2023-04-03  2023-04-03   \n",
      "304                      221     2023-04-03  2023-04-03   \n",
      "305                      205     2023-04-03  2023-04-03   \n",
      "306                       50     2023-04-03  2023-04-03   \n",
      "307                      108     2023-03-31  2023-03-31   \n",
      "\n",
      "                                          libelle  debit  credit    solde  \n",
      "0            FORFAIT COMPTE SUPERBANK XX XX XX XX  -1.92     NaN  2513.79  \n",
      "1                         CARTE XX XX CHEZ LUC XX -10.00     NaN  2529.29  \n",
      "2                  PRELEVEMENT XX TELEPHONE XX XX -13.58     NaN  2515.71  \n",
      "3                         CARTE XX XX XX XX XX XX -10.64     NaN  2539.29  \n",
      "4                               CARTE XX XX XX XX  -4.80     NaN  2549.93  \n",
      "..                                            ...    ...     ...      ...  \n",
      "303                           CARTE XX XX RAPT XX -73.00     NaN  2221.01  \n",
      "304  VIREMENT XX XX XX XX XX XX XX XX XX XX XX XX    NaN   676.0  2294.01  \n",
      "305                    VIREMENT XX XX XX XX XX XX    NaN     4.8  1618.01  \n",
      "306                             CARTE XX XX XX XX -14.39     NaN  1613.21  \n",
      "307                      DON XX XX XX XX XX XX XX  -1.44     NaN  1627.60  \n",
      "\n",
      "[308 rows x 7 columns]\n"
     ]
    }
   ],
   "source": [
    "import pandas as pd\n",
    "data = pd.read_csv(\"operations.csv\", parse_dates=[1,2] )\n",
    "print(data)"
   ]
  },
  {
   "cell_type": "code",
   "execution_count": 4,
   "id": "03cf5946",
   "metadata": {
    "scrolled": true
   },
   "outputs": [
    {
     "name": "stdout",
     "output_type": "stream",
     "text": [
      "('XX', 1428)\n",
      "('CARTE', 247)\n",
      "('VIREMENT', 29)\n",
      "('LES', 20)\n",
      "('ANCIENS', 20)\n",
      "('ROBINSON', 20)\n",
      "('CHEZ', 16)\n",
      "('LUC', 16)\n",
      "('LA', 16)\n",
      "(\"L'EPICERIE\", 16)\n",
      "('DEMBAS', 16)\n",
      "('TOUPTIPRI', 12)\n",
      "('CCNCF', 9)\n",
      "('RETRAIT', 9)\n",
      "('PRELEVEMENT', 8)\n",
      "('RAPT', 8)\n",
      "('FORFAIT', 7)\n",
      "('COMPTE', 7)\n",
      "('SUPERBANK', 7)\n",
      "('TELEPHONE', 7)\n",
      "('DON', 7)\n",
      "('LOUVE', 7)\n",
      "('PERMANENT', 6)\n",
      "('LOYER', 6)\n",
      "('VELOC', 4)\n"
     ]
    }
   ],
   "source": [
    "from collections import Counter\n",
    "\n",
    "def most_common_words(labels):\n",
    "    words = []\n",
    "    for lab in labels:\n",
    "        words += lab.split(\" \")\n",
    "    counter = Counter(words)\n",
    "    for word in counter.most_common(100):\n",
    "        print(word)\n",
    "\n",
    "most_common_words(data['libelle'].values)"
   ]
  },
  {
   "cell_type": "code",
   "execution_count": 5,
   "id": "1a6d772c",
   "metadata": {},
   "outputs": [],
   "source": [
    "CATEGS = {\n",
    "    'LOYER': 'LOYER',\n",
    "    'FORFAIT COMPTE SUPERBANK': 'COTISATION BANCAIRE',\n",
    "    'LES ANCIENS ROBINSON': 'COURSES',\n",
    "    \"L'EPICERIE DENBAS\": 'COURSES',\n",
    "    'TELEPHONE': 'FACTURE TELEPHONE',\n",
    "    'LA CCNCF': 'TRANSPORT',\n",
    "    'CHEZ LUC': 'RESTAURANT',\n",
    "    'RAPT': 'TRANSPORT',\n",
    "    'TOUPTIPRI': 'COURSES',\n",
    "    'LA LOUVE': 'COURSES',\n",
    "    'VELOC': 'TRANSPORT'\n",
    "}\n",
    "TYPES = {\n",
    "    'CARTE': 'CARTE',\n",
    "    'VIR': 'VIREMENT',\n",
    "    'VIREMENT': 'VIREMENT',\n",
    "    'RETRAIT': 'RETRAIT',\n",
    "    'PRLV': 'PRELEVEMENT',\n",
    "    'DON': 'DON',\n",
    "}"
   ]
  },
  {
   "cell_type": "code",
   "execution_count": 6,
   "id": "bdfe786f",
   "metadata": {},
   "outputs": [],
   "source": [
    "EXPENSES = [80,200] # Bornes des catégories de dépense : petite, moyenne et grosse\n",
    "LAST_BALANCE = 2400 # Solde du compte APRES la dernière opération en date\n",
    "WEEKEND = [\"Saturday\",\"Sunday\"] # Jours non travaillés"
   ]
  },
  {
   "cell_type": "code",
   "execution_count": 7,
   "id": "78cd8bd7",
   "metadata": {},
   "outputs": [],
   "source": [
    "# Controle des colonnes\n",
    "for c in ['date_operation','libelle','debit','credit']:\n",
    "    if c not in data.columns:\n",
    "        if (c in ['debit','credit'] and 'montant' not in data.columns) or \\\n",
    "        (c not in ['debit','credit']):\n",
    "            msg = \"Il vous manque la colonne '{}'. Attention aux majuscules \"\n",
    "            msg += \"et minuscules dans le nom des colonnes!\"\n",
    "            raise Exception(msg.format(c))\n",
    "\n",
    "# Suppression des colonnes innutiles\n",
    "for c in data.columns:\n",
    "    if c not in ['date_operation','libelle','debit','credit','montant']:\n",
    "        del data[c]\n",
    "\n",
    "# Ajout de la colonne 'montant' si besoin\n",
    "if 'montant' not in data.columns:\n",
    "    data[\"debit\"] = data[\"debit\"].fillna(0)\n",
    "    data[\"credit\"] = data[\"credit\"].fillna(0)\n",
    "    data[\"montant\"] = data[\"debit\"] + data[\"credit\"]\n",
    "    del data[\"credit\"], data[\"debit\"]\n",
    "\n",
    "# creation de la variable 'solde_avt_ope'\n",
    "data = data.sort_values(\"date_operation\")\n",
    "amount = data[\"montant\"]\n",
    "balance = amount.cumsum()\n",
    "balance = list(balance.values)\n",
    "last_val = balance[-1]\n",
    "balance = [0] + balance[:-1]\n",
    "balance = balance - last_val + LAST_BALANCE\n",
    "data[\"solde_avt_ope\"] = balance\n",
    "\n",
    "# Assignation des operations a une categorie et a un type\n",
    "def detect_words(values, dictionary):\n",
    "    result = []\n",
    "    for lib in values:\n",
    "        operation_type = \"AUTRE\"\n",
    "        for word, val in dictionary.items():\n",
    "            if word in lib:\n",
    "                operation_type = val\n",
    "        result.append(operation_type)\n",
    "    return result\n",
    "data[\"categ\"] = detect_words(data[\"libelle\"], CATEGS)\n",
    "data[\"type\"] = detect_words(data[\"libelle\"], TYPES)\n",
    "\n",
    "# creation des variables 'tranche_depense' et 'sens'\n",
    "def expense_slice(value):\n",
    "    value = -value # Les dépenses sont des nombres négatifs\n",
    "    if value < 0:\n",
    "        return \"(pas une dépense)\"\n",
    "    elif value < EXPENSES[0]:\n",
    "        return \"petite\"\n",
    "    elif value < EXPENSES[1]:\n",
    "        return \"moyenne\"\n",
    "    else:\n",
    "        return \"grosse\"\n",
    "data[\"tranche_depense\"] = data[\"montant\"].map(expense_slice)\n",
    "data[\"sens\"] = [\"credit\" if m > 0 else \"debit\" for m in data[\"montant\"]]\n",
    "\n",
    "# Creation des autres variables\n",
    "data[\"annee\"] = data[\"date_operation\"].map(lambda d: d.year)\n",
    "data[\"mois\"] = data[\"date_operation\"].map(lambda d: d.month)\n",
    "data[\"jour\"] = data[\"date_operation\"].map(lambda d: d.day)\n",
    "data[\"jour_sem\"] = data[\"date_operation\"].map(lambda d: d.day_name)\n",
    "data[\"jour_sem_num\"] = data[\"date_operation\"].map(lambda d: d.weekday()+1)\n",
    "data[\"weekend\"] = data[\"jour_sem\"].isin(WEEKEND)\n",
    "data[\"quart_mois\"] = [int((jour-1)*4/31)+1 for jour in data[\"jour\"]]\n",
    "        \n",
    "# Enregistrement au format CSV\n",
    "data.to_csv(\"operations_enrichies.csv\",index=False)"
   ]
  },
  {
   "cell_type": "code",
   "execution_count": 8,
   "id": "2f81ab44",
   "metadata": {},
   "outputs": [
    {
     "data": {
      "image/png": "[encoded data removed]",
      "text/plain": [
       "<Figure size 432x288 with 1 Axes>"
      ]
     },
     "metadata": {},
     "output_type": "display_data"
    }
   ],
   "source": [
    "import matplotlib.pyplot as plt\n",
    "\n",
    "# VARIABLE QUALITATIVE\n",
    "# Diagramme en secteurs\n",
    "data[\"categ\"].value_counts(normalize=True).plot(kind='pie')\n",
    "# Cette ligne assure que le pie chart est un cercle plutôt qu'une éllipse\n",
    "plt.axis('equal') \n",
    "plt.show() # Affiche le graphique\n"
   ]
  },
  {
   "cell_type": "code",
   "execution_count": 9,
   "id": "3523b20a",
   "metadata": {},
   "outputs": [
    {
     "data": {
      "image/png": "[encoded data removed]",
      "text/plain": [
       "<Figure size 432x288 with 1 Axes>"
      ]
     },
     "metadata": {
      "needs_background": "light"
     },
     "output_type": "display_data"
    }
   ],
   "source": [
    "# Diagramme en tuyaux d'orgues\n",
    "data[\"categ\"].value_counts(normalize=True).plot(kind='bar')\n",
    "plt.show()"
   ]
  },
  {
   "cell_type": "code",
   "execution_count": 10,
   "id": "e1490f44",
   "metadata": {},
   "outputs": [
    {
     "data": {
      "image/png": "[encoded data removed]",
      "text/plain": [
       "<Figure size 432x288 with 1 Axes>"
      ]
     },
     "metadata": {
      "needs_background": "light"
     },
     "output_type": "display_data"
    }
   ],
   "source": [
    "# VARIABLE QUANTITATIVE\n",
    "# Diagramme en bâtons\n",
    "data[\"quart_mois\"].value_counts(normalize=True).plot(kind='bar',width=0.1)\n",
    "plt.show()"
   ]
  },
  {
   "cell_type": "code",
   "execution_count": 11,
   "id": "0f2bf525",
   "metadata": {},
   "outputs": [
    {
     "data": {
      "image/png": "[encoded data removed]",
      "text/plain": [
       "<Figure size 432x288 with 1 Axes>"
      ]
     },
     "metadata": {
      "needs_background": "light"
     },
     "output_type": "display_data"
    }
   ],
   "source": [
    "# Histogramme\n",
    "data[\"montant\"].hist(density=True)\n",
    "plt.show()"
   ]
  },
  {
   "cell_type": "code",
   "execution_count": 12,
   "id": "e3a11d63",
   "metadata": {
    "scrolled": true
   },
   "outputs": [
    {
     "data": {
      "image/png": "[encoded data removed]",
      "text/plain": [
       "<Figure size 432x288 with 1 Axes>"
      ]
     },
     "metadata": {
      "needs_background": "light"
     },
     "output_type": "display_data"
    }
   ],
   "source": [
    "# Histogramme plus beau\n",
    "data[data.montant.abs() < 100][\"montant\"].hist(density=True,bins=20)\n",
    "plt.show()"
   ]
  },
  {
   "cell_type": "code",
   "execution_count": 13,
   "id": "8a41ad23",
   "metadata": {},
   "outputs": [],
   "source": [
    "effectifs = data[\"quart_mois\"].value_counts()\n",
    "modalites = effectifs.index # l'index de effectifs contient les modalités\n",
    "\n",
    "tab = pd.DataFrame(modalites, columns = [\"quart_mois\"]) # création du tableau à partir des modalités\n",
    "tab[\"n\"] = effectifs.values\n",
    "tab[\"f\"] = tab[\"n\"] / len(data) # len(data) renvoie la taille de l'échantillon"
   ]
  },
  {
   "cell_type": "code",
   "execution_count": 14,
   "id": "a428ea56",
   "metadata": {},
   "outputs": [],
   "source": [
    "tab = tab.sort_values(\"quart_mois\") # tri des valeurs de la variable X (croissant)\n",
    "tab[\"F\"] = tab[\"f\"].cumsum() # cumsum calcule la somme cumulée"
   ]
  },
  {
   "cell_type": "code",
   "execution_count": 17,
   "id": "dd6fd01b",
   "metadata": {},
   "outputs": [
    {
     "name": "stdout",
     "output_type": "stream",
     "text": [
      "   quart_mois   n         f         F\n",
      "0           1  86  0.279221  0.279221\n",
      "1           2  76  0.246753  0.525974\n",
      "2           3  75  0.243506  0.769481\n",
      "3           4  71  0.230519  1.000000\n"
     ]
    }
   ],
   "source": [
    "print(tab)"
   ]
  },
  {
   "cell_type": "code",
   "execution_count": null,
   "id": "172cd21b",
   "metadata": {},
   "outputs": [],
   "source": []
  }
 ],
 "metadata": {
  "kernelspec": {
   "display_name": "Python 3",
   "language": "python",
   "name": "python3"
  },
  "language_info": {
   "codemirror_mode": {
    "name": "ipython",
    "version": 3
   },
   "file_extension": ".py",
   "mimetype": "text/x-python",
   "name": "python",
   "nbconvert_exporter": "python",
   "pygments_lexer": "ipython3",
   "version": "3.8.8"
  }
 },
 "nbformat": 4,
 "nbformat_minor": 5
}
